{
  "nbformat": 4,
  "nbformat_minor": 0,
  "metadata": {
    "colab": {
      "provenance": [],
      "gpuType": "T4",
      "collapsed_sections": [
        "W3FTyZQS25_3",
        "KHLtqpPz2-Hn"
      ]
    },
    "kernelspec": {
      "name": "python3",
      "display_name": "Python 3"
    },
    "language_info": {
      "name": "python"
    },
    "accelerator": "GPU"
  },
  "cells": [
    {
      "cell_type": "markdown",
      "source": [
        "# **Setup and Imports**"
      ],
      "metadata": {
        "id": "W3FTyZQS25_3"
      }
    },
    {
      "source": [
        "# ✅ STEP 1: Import libraries\n",
        "!pip install selfies\n",
        "!pip install rdkit-pypi\n",
        "import torch\n",
        "import torch.nn as nn\n",
        "import torch.nn.functional as F\n",
        "import pandas as pd\n",
        "import selfies\n",
        "from selfies import encoder, decoder, split_selfies, EncoderError\n",
        "from sklearn.model_selection import train_test_split\n",
        "from rdkit import Chem\n",
        "import random"
      ],
      "cell_type": "code",
      "metadata": {
        "colab": {
          "base_uri": "https://localhost:8080/"
        },
        "id": "1oZP4Eq_MbGP",
        "outputId": "9eb38ed1-2d6e-47c5-ffe7-5c753ad3d4ff"
      },
      "execution_count": null,
      "outputs": [
        {
          "output_type": "stream",
          "name": "stdout",
          "text": [
            "Requirement already satisfied: selfies in /usr/local/lib/python3.11/dist-packages (2.2.0)\n",
            "Requirement already satisfied: rdkit-pypi in /usr/local/lib/python3.11/dist-packages (2022.9.5)\n",
            "Requirement already satisfied: numpy in /usr/local/lib/python3.11/dist-packages (from rdkit-pypi) (2.0.2)\n",
            "Requirement already satisfied: Pillow in /usr/local/lib/python3.11/dist-packages (from rdkit-pypi) (11.2.1)\n"
          ]
        }
      ]
    },
    {
      "cell_type": "markdown",
      "source": [
        "# **Load and Convert Dataset**"
      ],
      "metadata": {
        "id": "KHLtqpPz2-Hn"
      }
    },
    {
      "cell_type": "code",
      "source": [
        "#✅ STEP 2: Load dataset (light QM9 CSV)\n",
        "df = pd.read_csv(\"https://deepchemdata.s3-us-west-1.amazonaws.com/datasets/qm9.csv\")\n",
        "df = df.dropna(subset=[\"smiles\"]).reset_index(drop=True)\n",
        "smiles_list = df['smiles'].sample(10000, random_state=42).tolist()"
      ],
      "metadata": {
        "id": "J1qbNzLZva4H"
      },
      "execution_count": null,
      "outputs": []
    },
    {
      "cell_type": "code",
      "source": [
        "df.info()"
      ],
      "metadata": {
        "id": "nZvtgTYOL1qO",
        "colab": {
          "base_uri": "https://localhost:8080/"
        },
        "outputId": "5ba7e640-f5aa-47a5-d13f-71305129340f"
      },
      "execution_count": null,
      "outputs": [
        {
          "output_type": "stream",
          "name": "stdout",
          "text": [
            "<class 'pandas.core.frame.DataFrame'>\n",
            "RangeIndex: 133885 entries, 0 to 133884\n",
            "Data columns (total 21 columns):\n",
            " #   Column     Non-Null Count   Dtype  \n",
            "---  ------     --------------   -----  \n",
            " 0   mol_id     133885 non-null  object \n",
            " 1   smiles     133885 non-null  object \n",
            " 2   A          133885 non-null  float64\n",
            " 3   B          133885 non-null  float64\n",
            " 4   C          133885 non-null  float64\n",
            " 5   mu         133885 non-null  float64\n",
            " 6   alpha      133885 non-null  float64\n",
            " 7   homo       133885 non-null  float64\n",
            " 8   lumo       133885 non-null  float64\n",
            " 9   gap        133885 non-null  float64\n",
            " 10  r2         133885 non-null  float64\n",
            " 11  zpve       133885 non-null  float64\n",
            " 12  u0         133885 non-null  float64\n",
            " 13  u298       133885 non-null  float64\n",
            " 14  h298       133885 non-null  float64\n",
            " 15  g298       133885 non-null  float64\n",
            " 16  cv         133885 non-null  float64\n",
            " 17  u0_atom    133885 non-null  float64\n",
            " 18  u298_atom  133885 non-null  float64\n",
            " 19  h298_atom  133885 non-null  float64\n",
            " 20  g298_atom  133885 non-null  float64\n",
            "dtypes: float64(19), object(2)\n",
            "memory usage: 21.5+ MB\n"
          ]
        }
      ]
    },
    {
      "cell_type": "markdown",
      "source": [
        "- SMILES (Simplified Molecular Input Line Entry System) string, which encodes the molecule structure in a linear string format.\n",
        "\n",
        "- SMILES is converted into SELFIES (due to many invalid strings in SMILES , SELFIES instead is ML friendly, where all strings are valid molecules )"
      ],
      "metadata": {
        "id": "IlAxMH2RN08u"
      }
    },
    {
      "cell_type": "code",
      "source": [
        "# ✅ STEP 3: Convert SMILES to SELFIES (skip invalid ones)\n",
        "selfies_list = []\n",
        "for s in smiles_list:\n",
        "    try:\n",
        "        selfies_list.append(encoder(s)) # Converts every SMILES string into its SELFIES equivalent using the encoder\n",
        "    except EncoderError:  # If a SMILES string cannot be encoded (invalid)>> skipped\n",
        "        continue"
      ],
      "metadata": {
        "id": "ziHgnZAQvvMf"
      },
      "execution_count": null,
      "outputs": []
    },
    {
      "cell_type": "markdown",
      "source": [
        "# ***Tokenization and Data Loader***\n",
        "\n",
        "---\n",
        "\n",
        " SMILES → SELFIES → Tokens → Indices → padding → sos  is essential for model compatibility."
      ],
      "metadata": {
        "id": "3yK_3HCY3HVn"
      }
    },
    {
      "cell_type": "code",
      "source": [
        "# ✅ STEP 4: Tokenize SELFIES\n",
        "all_tokens = set() # stores unique tokens\n",
        "tokenized_selfies = []# hold the list of tokenized molecules\n",
        "max_len = 0\n",
        "\n",
        "for s in selfies_list:\n",
        "    tokens = list(split_selfies(s)) #Breaks the SELFIES string into a list of tokens.\n",
        "    tokenized_selfies.append(tokens)\n",
        "    all_tokens.update(tokens)\n",
        "    max_len = max(max_len, len(tokens))\n",
        "# convert from selfies format into indexed format\n",
        "selfie2idx = {tok: i + 2 for i, tok in enumerate(sorted(all_tokens))} #Assign a unique integer index to each SELFIES token, 2 >> leaving space for pad and sos\n",
        "selfie2idx[\"<PAD>\"] = 0\n",
        "selfie2idx[\"<SOS>\"] = 1 # start of sequence(where molecule seq. starts)\n",
        "idx2selfie = {i: s for s, i in selfie2idx.items()} # inverse, convert index back to tokens\n",
        "\n",
        "def encode_selfie(s_tokens): #Input a tokenized SELFIES string, output : indices\n",
        "    return [selfie2idx['<SOS>']] + [selfie2idx[t] for t in s_tokens] + [selfie2idx['<PAD>']] * (max_len - len(s_tokens))\n",
        "\n",
        "def decode_selfie(indices): #Input a list of token indices , output : tokenized SELFIES string, convert selfies back to valid smile\n",
        "    tokens = [idx2selfie.get(i, '') for i in indices if i > 1]\n",
        "    return decoder(\"\".join(tokens))\n"
      ],
      "metadata": {
        "id": "nMn_ANsavw-3"
      },
      "execution_count": null,
      "outputs": []
    },
    {
      "cell_type": "code",
      "source": [
        "# ✅ STEP 5: Prepare input tensor\n",
        "encoded = [encode_selfie(s) for s in tokenized_selfies] # add el output of encoding(el fo2) ll padding\n",
        "input_tensor = torch.tensor(encoded, dtype=torch.long)"
      ],
      "metadata": {
        "id": "SCn3EQzizWwY"
      },
      "execution_count": null,
      "outputs": []
    },
    {
      "source": [
        "from sklearn.model_selection import train_test_split\n",
        "from torch.utils.data import TensorDataset # Import TensorDataset here\n",
        "\n",
        "# Split the input tensor into training and validation sets (90/10)\n",
        "train_tensor, val_tensor = train_test_split(input_tensor, test_size=0.1, random_state=42)\n",
        "\n",
        "# Create datasets\n",
        "train_dataset = TensorDataset(train_tensor)\n",
        "val_dataset = TensorDataset(val_tensor)"
      ],
      "cell_type": "code",
      "metadata": {
        "id": "_DnD8cn499LH"
      },
      "execution_count": null,
      "outputs": []
    },
    {
      "cell_type": "markdown",
      "source": [
        "DataLoader: to feed the model batches of training data"
      ],
      "metadata": {
        "id": "EVRmXyDZkn5f"
      }
    },
    {
      "cell_type": "code",
      "source": [
        "# ✅ STEP 6: Create DataLoader\n",
        "from torch.utils.data import DataLoader, TensorDataset\n",
        "batch_size = 64\n",
        "dataset = TensorDataset(input_tensor)\n",
        "dataloader = DataLoader(dataset, batch_size=batch_size, shuffle=True)\n",
        "\n",
        "# shuffle=True ensures the training data is randomly shuffled each epoch to promote better generalization."
      ],
      "metadata": {
        "id": "fJpvguhTzX3f"
      },
      "execution_count": null,
      "outputs": []
    },
    {
      "cell_type": "markdown",
      "source": [
        "#**Define and Train the VAE**"
      ],
      "metadata": {
        "id": "FsKiQYrc3N1B"
      }
    },
    {
      "cell_type": "code",
      "source": [
        "# ✅ STEP 7: Define the VAE model\n",
        "class SELFIESVAE(nn.Module):\n",
        "    def __init__(self, vocab_size, embed_dim=64, hidden_dim=256, latent_dim=128, max_len=100):\n",
        "        super().__init__()\n",
        "        self.embedding = nn.Embedding(vocab_size, embed_dim, padding_idx=0) #Converts each token index into a dense vector (like word embeddings)\n",
        "        self.encoder_lstm = nn.LSTM(embed_dim, hidden_dim, batch_first=True)#Processes input sequence and summarizes it into a hidden state\n",
        "        self.fc_mu = nn.Linear(hidden_dim, latent_dim)#Outputs the mean (μ) of the latent space\n",
        "        self.fc_logvar = nn.Linear(hidden_dim, latent_dim)#Outputs the log-variance (logσ²) of the latent space\n",
        "        self.decoder_input = nn.Linear(latent_dim, hidden_dim)#Maps latent vector back into a decoder hidden state\n",
        "        self.decoder_lstm = nn.LSTM(embed_dim, hidden_dim, batch_first=True)#Generates one token at a time from the hidden state#\n",
        "        self.output_fc = nn.Linear(hidden_dim, vocab_size)#Projects decoder output to the vocabulary size (for predicting next token)\n",
        "        self.max_len = max_len#\tMaximum length of output sequences\n",
        "\n",
        "    def encode(self, x):#\tMaps input to latent space (mu, logvar)\n",
        "        embedded = self.embedding(x)\n",
        "        _, (hidden, _) = self.encoder_lstm(embedded)\n",
        "        hidden = hidden[-1]\n",
        "        return self.fc_mu(hidden), self.fc_logvar(hidden)\n",
        "\n",
        "    def reparameterize(self, mu, logvar):#Samples z from latent distribution\n",
        "        std = torch.exp(0.5 * logvar)\n",
        "        return mu + std * torch.randn_like(std)\n",
        "\n",
        "    def decode(self, z):#Generates output sequence from z\n",
        "        batch_size = z.size(0)\n",
        "        hidden = self.decoder_input(z).unsqueeze(0)\n",
        "        cell = torch.zeros_like(hidden)\n",
        "        inputs = torch.full((batch_size, 1), 1, dtype=torch.long).to(z.device)  # <SOS>\n",
        "        outputs = []\n",
        "        for _ in range(self.max_len):\n",
        "            embedded = self.embedding(inputs)\n",
        "            out, (hidden, cell) = self.decoder_lstm(embedded, (hidden, cell))\n",
        "            logits = self.output_fc(out.squeeze(1))\n",
        "            outputs.append(logits.unsqueeze(1))\n",
        "            inputs = logits.argmax(dim=-1).unsqueeze(1)\n",
        "        return torch.cat(outputs, dim=1)\n",
        "\n",
        "    def forward(self, x):#Full VAE pipeline: x → z → sequence\n",
        "        mu, logvar = self.encode(x)\n",
        "        z = self.reparameterize(mu, logvar)\n",
        "        return self.decode(z), mu, logvar\n"
      ],
      "metadata": {
        "id": "GF_a4nbszZs_"
      },
      "execution_count": null,
      "outputs": []
    },
    {
      "cell_type": "code",
      "source": [
        "# ✅ STEP 8: Train the model\n",
        "device = torch.device(\"cuda\" if torch.cuda.is_available() else \"cpu\")#Chooses GPU (if available) for faster training.\n",
        "model = SELFIESVAE(vocab_size=len(selfie2idx), max_len=max_len+1).to(device)#Initializes the model using: The vocabulary size ,The sequence length (max_len+1 includes <SOS>)\n",
        "optimizer = torch.optim.Adam(model.parameters(), lr=1e-3)\n",
        "\n",
        "# recon_logits>> Model output before softmax — predicts which token should come next.\n",
        "def vae_loss(recon_logits, target, mu, logvar):#Total loss: Sum of both components.(kl divergence , recostruction)\n",
        "    recon_loss = F.cross_entropy(recon_logits.view(-1, recon_logits.size(-1)), target.view(-1), ignore_index=0)\n",
        "    kl_loss = -0.5 * torch.mean(1 + logvar - mu.pow(2) - logvar.exp())\n",
        "    return recon_loss + kl_loss\n",
        "\n",
        "train_losses = []\n",
        "val_losses = []\n",
        "\n",
        "n_epochs = 20\n",
        "\n",
        "for epoch in range(n_epochs):\n",
        "    model.train()\n",
        "    total_loss = 0\n",
        "    for batch in dataloader:\n",
        "        x = batch[0].to(device)\n",
        "        optimizer.zero_grad()\n",
        "        recon_logits, mu, logvar = model(x)\n",
        "        loss = vae_loss(recon_logits, x, mu, logvar)\n",
        "        loss.backward()\n",
        "        optimizer.step()\n",
        "        total_loss += loss.item()\n",
        "    print(f\"Epoch {epoch+1}, Loss: {total_loss / len(dataloader):.4f}\")\n",
        "\n"
      ],
      "metadata": {
        "colab": {
          "base_uri": "https://localhost:8080/"
        },
        "id": "TQ57GWhKzduX",
        "outputId": "f08c5575-cd20-452a-a731-eec8c20557ad"
      },
      "execution_count": null,
      "outputs": [
        {
          "output_type": "stream",
          "name": "stdout",
          "text": [
            "Epoch 1, Loss: 1.8307\n",
            "Epoch 2, Loss: 1.6872\n",
            "Epoch 3, Loss: 1.6619\n",
            "Epoch 4, Loss: 1.6372\n",
            "Epoch 5, Loss: 1.6066\n",
            "Epoch 6, Loss: 1.5902\n",
            "Epoch 7, Loss: 1.5692\n",
            "Epoch 8, Loss: 1.5262\n",
            "Epoch 9, Loss: 1.4569\n",
            "Epoch 10, Loss: 1.3789\n",
            "Epoch 11, Loss: 1.3036\n",
            "Epoch 12, Loss: 1.2503\n",
            "Epoch 13, Loss: 1.1931\n",
            "Epoch 14, Loss: 1.1660\n",
            "Epoch 15, Loss: 1.1560\n",
            "Epoch 16, Loss: 1.1009\n",
            "Epoch 17, Loss: 1.0761\n",
            "Epoch 18, Loss: 1.0498\n",
            "Epoch 19, Loss: 1.0209\n",
            "Epoch 20, Loss: 1.0655\n"
          ]
        }
      ]
    },
    {
      "cell_type": "markdown",
      "source": [
        "# **Generate Molecules**"
      ],
      "metadata": {
        "id": "P0QN1K-z3b7n"
      }
    },
    {
      "cell_type": "code",
      "source": [
        "# ✅ STEP 9: Sample new molecules from learned latent space\n",
        "def sample_selfies(model, input_tensor, num_samples=10):\n",
        "    model.eval()\n",
        "    with torch.no_grad():\n",
        "        mu, _ = model.encode(input_tensor[:1000].to(device))\n",
        "        z = mu[torch.randint(0, mu.shape[0], (num_samples,))]\n",
        "        logits = model.decode(z)\n",
        "        tokens = logits.argmax(dim=-1).cpu().numpy()\n",
        "        return [decode_selfie(t) for t in tokens]"
      ],
      "metadata": {
        "id": "Rg_uzAS7zfin"
      },
      "execution_count": null,
      "outputs": []
    },
    {
      "cell_type": "markdown",
      "source": [
        " Sample and Validate Molecules\n",
        " This section uses the trained VAE to generate new molecular structures.\n",
        " `sample_selfies()` samples random latent vectors (z) from the encoder's latent space\n",
        "  and decodes them into sequences of SELFIES tokens, which are converted back to SMILES strings.\n",
        " - Each generated SMILES is validated using RDKit's `MolFromSmiles()` function to ensure it represents\n",
        "  a chemically valid molecule.\n",
        " - Valid molecules are collected for further analysis or property calculation.\n"
      ],
      "metadata": {
        "id": "-aDAKnhzlATq"
      }
    },
    {
      "cell_type": "code",
      "source": [
        "# ✅ STEP 10: Generate and print valid SMILES\n",
        "generated = sample_selfies(model, input_tensor, num_samples=10)\n",
        "\n",
        "valid_smiles = []\n",
        "valid_mols = []\n",
        "for i, s in enumerate(generated):\n",
        "    mol = Chem.MolFromSmiles(s)\n",
        "    is_valid = mol is not None\n",
        "    print(f\"{i+1}. {s} --> {'Valid' if is_valid else 'Invalid'}\")\n",
        "    if is_valid:\n",
        "        valid_smiles.append(Chem.MolToSmiles(mol))\n",
        "        valid_mols.append(mol)\n",
        "\n",
        "\n"
      ],
      "metadata": {
        "id": "IOph9HHIzh9f",
        "colab": {
          "base_uri": "https://localhost:8080/"
        },
        "outputId": "0ac8f101-c77b-4819-a146-9ca173a5bf83"
      },
      "execution_count": null,
      "outputs": [
        {
          "output_type": "stream",
          "name": "stdout",
          "text": [
            "1. O1C(C#N)CC=2CC=21 --> Valid\n",
            "2. C1C(CC2)C2C=3CC=31 --> Valid\n",
            "3. C=C(CCCCC)C=O --> Valid\n",
            "4. COC1CC2CC3CC132 --> Valid\n",
            "5. CC1CCC2C=3C2CC1=3 --> Valid\n",
            "6. CC1C2C=3C(C)C2CC1=3 --> Valid\n",
            "7. CC1CCC=2CCCC1=2 --> Valid\n",
            "8. CCC=1CCC(C)=C=1 --> Valid\n",
            "9. OC12CC1C3C=C4CC243 --> Valid\n",
            "10. CCC1(C)CCC1C=O --> Valid\n"
          ]
        }
      ]
    },
    {
      "cell_type": "markdown",
      "source": [
        "# **Compute Molecular Properties**"
      ],
      "metadata": {
        "id": "rrFJpYjV3jv-"
      }
    },
    {
      "cell_type": "code",
      "source": [
        "# ✅ STEP 10B: Compute RDKit Properties\n",
        "from rdkit.Chem import QED, Crippen\n",
        "\n",
        " #Are these molecules useful as drug candidates\n",
        "print(\"Properties of Valid Molecules:\")\n",
        "for i, mol in enumerate(valid_mols):\n",
        "    qed = QED.qed(mol)\n",
        "    logp = Crippen.MolLogP(mol)\n",
        "    print(f\"{i+1}. QED: {qed:.3f} | logP: {logp:.2f}\")\n",
        "\n",
        "\n",
        "    #\t0 to 5 logP desired range\n",
        "    #QED desired range > 0.5"
      ],
      "metadata": {
        "id": "GdCPHtZR3hkG",
        "colab": {
          "base_uri": "https://localhost:8080/"
        },
        "outputId": "4807184a-ea41-40a7-dc0c-af1c58569133"
      },
      "execution_count": null,
      "outputs": [
        {
          "output_type": "stream",
          "name": "stdout",
          "text": [
            "Properties of Valid Molecules:\n",
            "1. QED: 0.461 | logP: 0.96\n",
            "2. QED: 0.415 | logP: 2.12\n",
            "3. QED: 0.314 | logP: 2.32\n",
            "4. QED: 0.514 | logP: 1.43\n",
            "5. QED: 0.430 | logP: 2.36\n",
            "6. QED: 0.430 | logP: 2.22\n",
            "7. QED: 0.433 | logP: 2.90\n",
            "8. QED: 0.453 | logP: 2.66\n",
            "9. QED: 0.466 | logP: 0.70\n",
            "10. QED: 0.517 | logP: 2.01\n"
          ]
        }
      ]
    },
    {
      "cell_type": "code",
      "source": [
        "import matplotlib.pyplot as plt\n",
        "\n",
        "qed_scores = [QED.qed(mol) for mol in valid_mols]\n",
        "logp_scores = [Crippen.MolLogP(mol) for mol in valid_mols]\n",
        "\n",
        "plt.figure(figsize=(6,4))\n",
        "plt.scatter(logp_scores, qed_scores, c='blue', edgecolor='k')\n",
        "plt.xlabel('logP')\n",
        "plt.ylabel('QED')\n",
        "plt.title('Generated Molecule Properties')\n",
        "plt.grid(True)\n",
        "plt.show()\n"
      ],
      "metadata": {
        "id": "PGQ4ZUkI2BQ4",
        "colab": {
          "base_uri": "https://localhost:8080/",
          "height": 410
        },
        "outputId": "024ef9dc-61d3-42d0-d729-d70ddb94373a"
      },
      "execution_count": null,
      "outputs": [
        {
          "output_type": "display_data",
          "data": {
            "text/plain": [
              "<Figure size 600x400 with 1 Axes>"
            ],
            "image/png": "[encoded data removed]"
          },
          "metadata": {}
        }
      ]
    },
    {
      "cell_type": "code",
      "source": [
        "filtered = [(Chem.MolToSmiles(m), QED.qed(m), Crippen.MolLogP(m)) for m in valid_mols if QED.qed(m) > 0.5]\n"
      ],
      "metadata": {
        "id": "u07hyKbb2GiX"
      },
      "execution_count": null,
      "outputs": []
    },
    {
      "cell_type": "markdown",
      "source": [
        "# **Evaluate Molecule Quality**"
      ],
      "metadata": {
        "id": "xDoZgM7d3rCW"
      }
    },
    {
      "cell_type": "code",
      "source": [
        "# ✅ STEP 11: Evaluate validity, uniqueness, and novelty\n",
        "train_smiles_canon = set()\n",
        "for s in selfies_list:\n",
        "    try:\n",
        "        smiles = decoder(s)\n",
        "        m = Chem.MolFromSmiles(smiles)\n",
        "        if m:\n",
        "            train_smiles_canon.add(Chem.MolToSmiles(m))\n",
        "    except:\n",
        "        continue\n",
        "\n",
        "\n",
        "unique_smiles = set(valid_smiles)\n",
        "novel_smiles = unique_smiles - train_smiles_canon\n",
        "\n",
        "validity = len(valid_smiles) / len(generated) * 100\n",
        "uniqueness = len(unique_smiles) / len(valid_smiles) * 100 if valid_smiles else 0\n",
        "novelty = len(novel_smiles) / len(unique_smiles) * 100 if unique_smiles else 0\n",
        "\n",
        "print(\"\\nEvaluation Results:\")\n",
        "print(f\"Validity:   {validity:.2f}%\") #How many generated molecules are chemically valid\n",
        "print(f\"Uniqueness: {uniqueness:.2f}%\") #How many valid molecules are distinct\n",
        "print(f\"Novelty:    {novelty:.2f}%\")#How many valid, unique molecules were not in the training data\n",
        "\n"
      ],
      "metadata": {
        "id": "h7wR4vxV0unn",
        "colab": {
          "base_uri": "https://localhost:8080/"
        },
        "outputId": "115f6aec-cb14-4fbd-b1ed-92e6fcfd9a98"
      },
      "execution_count": null,
      "outputs": [
        {
          "output_type": "stream",
          "name": "stdout",
          "text": [
            "\n",
            "Evaluation Results:\n",
            "Validity:   100.00%\n",
            "Uniqueness: 100.00%\n",
            "Novelty:    100.00%\n"
          ]
        }
      ]
    }
  ]
}